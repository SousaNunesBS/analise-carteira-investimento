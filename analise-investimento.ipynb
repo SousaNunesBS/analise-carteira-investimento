{
 "cells": [
  {
   "cell_type": "markdown",
   "metadata": {},
   "source": [
    "Bibliotecas:\n",
    "\n",
    "- pandas\n",
    "- datetime\n",
    "- matplotlib\n",
    "- numpy\n",
    "\n",
    "\n",
    " Puxar cotações e afins:\n",
    "\n",
    "- pandas_datareader\n",
    "- yfinance"
   ]
  },
  {
   "cell_type": "code",
   "execution_count": 4,
   "metadata": {},
   "outputs": [],
   "source": [
    "import pandas as pd\n",
    "from datetime import datetime, timedelta\n",
    "import matplotlib.pyplot as plt\n",
    "import pandas_datareader.data as pdr\n",
    "import yfinance\n",
    "\n",
    "yfinance.pdr_override()"
   ]
  },
  {
   "cell_type": "markdown",
   "metadata": {},
   "source": [
    "### Importe de  arquivo .xlsx de carteira de investimentos."
   ]
  },
  {
   "cell_type": "code",
   "execution_count": 5,
   "metadata": {},
   "outputs": [],
   "source": [
    "df_carteira = pd.read_excel(r\"C:\\Projetos\\Dados\\analise-carteira-investimento\\Carteira.xlsx\")\n",
    "\n",
    "## display(df_carteira)"
   ]
  },
  {
   "cell_type": "markdown",
   "metadata": {},
   "source": [
    "### Definição de período de análise "
   ]
  },
  {
   "cell_type": "code",
   "execution_count": 6,
   "metadata": {},
   "outputs": [
    {
     "name": "stdout",
     "output_type": "stream",
     "text": [
      "2023-12-04 12:59:18.909729 2023-11-04 12:59:18.909729\n"
     ]
    }
   ],
   "source": [
    "data_inicial = datetime.now()\n",
    "data_final   = datetime.now() - timedelta(days=30)\n",
    "\n",
    "print(data_inicial, data_final)"
   ]
  }
 ],
 "metadata": {
  "kernelspec": {
   "display_name": "Python 3",
   "language": "python",
   "name": "python3"
  },
  "language_info": {
   "codemirror_mode": {
    "name": "ipython",
    "version": 3
   },
   "file_extension": ".py",
   "mimetype": "text/x-python",
   "name": "python",
   "nbconvert_exporter": "python",
   "pygments_lexer": "ipython3",
   "version": "3.12.0"
  }
 },
 "nbformat": 4,
 "nbformat_minor": 2
}
