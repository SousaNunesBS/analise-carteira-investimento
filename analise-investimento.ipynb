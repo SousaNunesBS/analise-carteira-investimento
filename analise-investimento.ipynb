{
 "cells": [
  {
   "cell_type": "markdown",
   "metadata": {},
   "source": [
    "Bibliotecas:\n",
    "\n",
    "- pandas\n",
    "- datetime\n",
    "- matplotlib\n",
    "- numpy\n",
    "\n",
    "\n",
    " Puxar cotações e afins:\n",
    "\n",
    "- pandas_datareader\n",
    "- yfinance"
   ]
  },
  {
   "cell_type": "code",
   "execution_count": null,
   "metadata": {},
   "outputs": [],
   "source": [
    "import pandas as pd\n",
    "from datetime import datetime, timedelta\n",
    "import matplotlib.pyplot as plt\n",
    "import pandas_datareader.data as pdr\n",
    "import yfinance\n",
    "\n",
    "yfinance.pdr_override()"
   ]
  }
 ],
 "metadata": {
  "language_info": {
   "name": "python"
  }
 },
 "nbformat": 4,
 "nbformat_minor": 2
}
